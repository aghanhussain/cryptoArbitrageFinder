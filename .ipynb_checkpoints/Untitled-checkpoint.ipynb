{
 "cells": [
  {
   "cell_type": "code",
   "execution_count": 3,
   "metadata": {
    "collapsed": true
   },
   "outputs": [],
   "source": [
    "import requests\n",
    "import matplotlib.pyplot as plt\n",
    "import datetime\n",
    "import pandas as pd"
   ]
  },
  {
   "cell_type": "code",
   "execution_count": 4,
   "metadata": {
    "collapsed": true
   },
   "outputs": [],
   "source": [
    "def price():\n",
    "    url = 'https://api.cryptonator.com/api/full/btc-usd?fa821dba_ipp_uid2=MGOUqWes6Fj05RZn%2FazMwgQ8DRdoLwDFsCHuePQ%3D%3D&fa821dba_ipp_uid1=1519650610134&fa821dba_ipp_key=1519650610135%2FILcIJQ%2FMARVlZGdh2ad%2B5g%3D%3D'\n",
    "    \n",
    "    page = requests.get(url)\n",
    "    data = page.json()['ticker']\n",
    "    print(url)\n",
    "    return data"
   ]
  },
  {
   "cell_type": "code",
   "execution_count": 5,
   "metadata": {},
   "outputs": [
    {
     "name": "stdout",
     "output_type": "stream",
     "text": [
      "https://api.cryptonator.com/api/full/btc-usd?fa821dba_ipp_uid2=MGOUqWes6Fj05RZn%2FazMwgQ8DRdoLwDFsCHuePQ%3D%3D&fa821dba_ipp_uid1=1519650610134&fa821dba_ipp_key=1519650610135%2FILcIJQ%2FMARVlZGdh2ad%2B5g%3D%3D\n"
     ]
    },
    {
     "data": {
      "text/plain": [
       "{'base': 'BTC',\n",
       " 'change': '-11.81246635',\n",
       " 'markets': [{'market': 'BitFinex',\n",
       "   'price': '10323.00000000',\n",
       "   'volume': 44796.09544409},\n",
       "  {'market': 'Bitstamp', 'price': '10325.98000000', 'volume': 16320.52759808},\n",
       "  {'market': 'Bittrex', 'price': '10339.61000000', 'volume': 3896.44526098},\n",
       "  {'market': 'C-Cex', 'price': '10960.00000000', 'volume': 2.49006287},\n",
       "  {'market': 'Cex.io', 'price': '10512.70000000', 'volume': 1774.61743305},\n",
       "  {'market': 'Exmo', 'price': '10582.00000000', 'volume': 1219.98438283},\n",
       "  {'market': 'Hitbtc', 'price': '10373.17000000', 'volume': 5544.56},\n",
       "  {'market': 'Kraken', 'price': '10340.70000000', 'volume': 8704.74334643},\n",
       "  {'market': 'Livecoin', 'price': '10449.89995000', 'volume': 1092.38447456},\n",
       "  {'market': 'Poloniex', 'price': '10301.66005212', 'volume': 3965.01074764},\n",
       "  {'market': 'wexnz', 'price': '10300.00000000', 'volume': 1220.94503},\n",
       "  {'market': 'YoBit', 'price': '10685.00000000', 'volume': 134.45022421}],\n",
       " 'price': '10337.37209852',\n",
       " 'target': 'USD',\n",
       " 'volume': '88672.25400474'}"
      ]
     },
     "execution_count": 5,
     "metadata": {},
     "output_type": "execute_result"
    }
   ],
   "source": [
    "abc=price()\n",
    "abc"
   ]
  },
  {
   "cell_type": "code",
   "execution_count": 4,
   "metadata": {},
   "outputs": [
    {
     "data": {
      "text/html": [
       "<div>\n",
       "<style>\n",
       "    .dataframe thead tr:only-child th {\n",
       "        text-align: right;\n",
       "    }\n",
       "\n",
       "    .dataframe thead th {\n",
       "        text-align: left;\n",
       "    }\n",
       "\n",
       "    .dataframe tbody tr th {\n",
       "        vertical-align: top;\n",
       "    }\n",
       "</style>\n",
       "<table border=\"1\" class=\"dataframe\">\n",
       "  <thead>\n",
       "    <tr style=\"text-align: right;\">\n",
       "      <th></th>\n",
       "      <th>error</th>\n",
       "      <th>success</th>\n",
       "      <th>ticker</th>\n",
       "      <th>timestamp</th>\n",
       "    </tr>\n",
       "  </thead>\n",
       "  <tbody>\n",
       "    <tr>\n",
       "      <th>base</th>\n",
       "      <td></td>\n",
       "      <td>True</td>\n",
       "      <td>BTC</td>\n",
       "      <td>1519656061</td>\n",
       "    </tr>\n",
       "    <tr>\n",
       "      <th>change</th>\n",
       "      <td></td>\n",
       "      <td>True</td>\n",
       "      <td>12.15787341</td>\n",
       "      <td>1519656061</td>\n",
       "    </tr>\n",
       "    <tr>\n",
       "      <th>markets</th>\n",
       "      <td></td>\n",
       "      <td>True</td>\n",
       "      <td>[{'market': 'BitFinex', 'price': '10230.000000...</td>\n",
       "      <td>1519656061</td>\n",
       "    </tr>\n",
       "    <tr>\n",
       "      <th>price</th>\n",
       "      <td></td>\n",
       "      <td>True</td>\n",
       "      <td>10246.09212365</td>\n",
       "      <td>1519656061</td>\n",
       "    </tr>\n",
       "    <tr>\n",
       "      <th>target</th>\n",
       "      <td></td>\n",
       "      <td>True</td>\n",
       "      <td>USD</td>\n",
       "      <td>1519656061</td>\n",
       "    </tr>\n",
       "    <tr>\n",
       "      <th>volume</th>\n",
       "      <td></td>\n",
       "      <td>True</td>\n",
       "      <td>81730.66540408</td>\n",
       "      <td>1519656061</td>\n",
       "    </tr>\n",
       "  </tbody>\n",
       "</table>\n",
       "</div>"
      ],
      "text/plain": [
       "        error  success                                             ticker  \\\n",
       "base              True                                                BTC   \n",
       "change            True                                        12.15787341   \n",
       "markets           True  [{'market': 'BitFinex', 'price': '10230.000000...   \n",
       "price             True                                     10246.09212365   \n",
       "target            True                                                USD   \n",
       "volume            True                                     81730.66540408   \n",
       "\n",
       "          timestamp  \n",
       "base     1519656061  \n",
       "change   1519656061  \n",
       "markets  1519656061  \n",
       "price    1519656061  \n",
       "target   1519656061  \n",
       "volume   1519656061  "
      ]
     },
     "execution_count": 4,
     "metadata": {},
     "output_type": "execute_result"
    }
   ],
   "source": [
    "data=pd.DataFrame(abc)\n",
    "data\n"
   ]
  },
  {
   "cell_type": "code",
   "execution_count": 27,
   "metadata": {},
   "outputs": [
    {
     "data": {
      "text/plain": [
       "array([ list([{'market': 'BitFinex', 'price': '10230.00000000', 'volume': 39450.08450556}, {'market': 'Bitstamp', 'price': '10231.00000000', 'volume': 14779.08939463}, {'market': 'Bittrex', 'price': '10228.00000000', 'volume': 3526.16880814}, {'market': 'C-Cex', 'price': '10680.00000000', 'volume': 3.88231859}, {'market': 'Cex.io', 'price': '10406.60000000', 'volume': 1665.60460493}, {'market': 'Exmo', 'price': '10470.00000000', 'volume': 1253.68852289}, {'market': 'Hitbtc', 'price': '10341.30000000', 'volume': 6323.48}, {'market': 'Kraken', 'price': '10233.70000000', 'volume': 9105.5688176}, {'market': 'Livecoin', 'price': '10350.71800000', 'volume': 828.36541553}, {'market': 'Poloniex', 'price': '10204.09255609', 'volume': 3553.8393667}, {'market': 'wexnz', 'price': '10143.80000000', 'volume': 1098.14663}, {'market': 'YoBit', 'price': '10649.99999999', 'volume': 142.74701951}])], dtype=object)"
      ]
     },
     "execution_count": 27,
     "metadata": {},
     "output_type": "execute_result"
    }
   ],
   "source": [
    "data.iloc[2:3]['ticker'].values\n",
    "\n",
    "    "
   ]
  },
  {
   "cell_type": "code",
   "execution_count": 30,
   "metadata": {
    "collapsed": true
   },
   "outputs": [],
   "source": [
    "exchanges=[]\n",
    "prices=[]\n",
    "volumes=[]\n"
   ]
  },
  {
   "cell_type": "code",
   "execution_count": 31,
   "metadata": {},
   "outputs": [
    {
     "name": "stdout",
     "output_type": "stream",
     "text": [
      "BitFinex == 10230.00000000 == 39450.08450556\n",
      "Bitstamp == 10231.00000000 == 14779.08939463\n",
      "Bittrex == 10228.00000000 == 3526.16880814\n",
      "C-Cex == 10680.00000000 == 3.88231859\n",
      "Cex.io == 10406.60000000 == 1665.60460493\n",
      "Exmo == 10470.00000000 == 1253.68852289\n",
      "Hitbtc == 10341.30000000 == 6323.48\n",
      "Kraken == 10233.70000000 == 9105.5688176\n",
      "Livecoin == 10350.71800000 == 828.36541553\n",
      "Poloniex == 10204.09255609 == 3553.8393667\n",
      "wexnz == 10143.80000000 == 1098.14663\n",
      "YoBit == 10649.99999999 == 142.74701951\n",
      "['BitFinex', 'Bitstamp', 'Bittrex', 'C-Cex', 'Cex.io', 'Exmo', 'Hitbtc', 'Kraken', 'Livecoin', 'Poloniex', 'wexnz', 'YoBit']\n",
      "['10230.00000000', '10231.00000000', '10228.00000000', '10680.00000000', '10406.60000000', '10470.00000000', '10341.30000000', '10233.70000000', '10350.71800000', '10204.09255609', '10143.80000000', '10649.99999999']\n",
      "[39450.08450556, 14779.08939463, 3526.16880814, 3.88231859, 1665.60460493, 1253.68852289, 6323.48, 9105.5688176, 828.36541553, 3553.8393667, 1098.14663, 142.74701951]\n"
     ]
    }
   ],
   "source": [
    "for i in data.iloc[2:3]['ticker'].values:\n",
    "    for x in i:\n",
    "        print(x['market'],\"==\",x['price'],\"==\",x['volume'])\n",
    "        exchanges.append(x['market'])\n",
    "        prices.append(x['price'])\n",
    "        volumes.append(x['volume'])\n",
    "print(exchanges)\n",
    "print(prices)\n",
    "print(volumes)\n",
    "        "
   ]
  },
  {
   "cell_type": "code",
   "execution_count": 33,
   "metadata": {
    "collapsed": true
   },
   "outputs": [],
   "source": [
    "import matplotlib.pyplot as plt"
   ]
  },
  {
   "cell_type": "code",
   "execution_count": 47,
   "metadata": {},
   "outputs": [
    {
     "data": {
      "image/png": "[encoded data removed]",
      "text/plain": [
       "<matplotlib.figure.Figure at 0x7865d67a20>"
      ]
     },
     "metadata": {},
     "output_type": "display_data"
    }
   ],
   "source": [
    "plt.scatter(prices,volumes)\n",
    "plt.xlabel(\"Prices\")\n",
    "plt.ylabel(\"Volumes\")\n",
    "plt.title(\"Bit VS Dollar\", fontsize=36)\n",
    "for exchange, x, y in zip(exchanges, prices, volumes):\n",
    " plt.annotate(exchange,\n",
    " xy=(x, y), # put the label with its point\n",
    " xytext=(-5, 5), # but slightly offset\n",
    " textcoords='offset points', fontsize=9)\n",
    "plt.show()"
   ]
  },
  {
   "cell_type": "code",
   "execution_count": null,
   "metadata": {
    "collapsed": true
   },
   "outputs": [],
   "source": []
  }
 ],
 "metadata": {
  "kernelspec": {
   "display_name": "Python 3",
   "language": "python",
   "name": "python3"
  },
  "language_info": {
   "codemirror_mode": {
    "name": "ipython",
    "version": 3
   },
   "file_extension": ".py",
   "mimetype": "text/x-python",
   "name": "python",
   "nbconvert_exporter": "python",
   "pygments_lexer": "ipython3",
   "version": "3.6.3"
  }
 },
 "nbformat": 4,
 "nbformat_minor": 2
}
